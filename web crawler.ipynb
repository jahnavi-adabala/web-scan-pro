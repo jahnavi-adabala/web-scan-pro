{
 "cells": [
  {
   "cell_type": "code",
   "execution_count": 10,
   "id": "e95f89ca-7dee-44ed-84a8-ea3bb711814f",
   "metadata": {},
   "outputs": [
    {
     "name": "stdout",
     "output_type": "stream",
     "text": [
      "Requirement already satisfied: lxml in c:\\python313\\lib\\site-packages (6.0.1)\n",
      "Requirement already satisfied: html5lib in c:\\python313\\lib\\site-packages (1.1)\n",
      "Requirement already satisfied: six>=1.9 in c:\\python313\\lib\\site-packages (from html5lib) (1.17.0)\n",
      "Requirement already satisfied: webencodings in c:\\python313\\lib\\site-packages (from html5lib) (0.5.1)\n",
      "Note: you may need to restart the kernel to use updated packages.\n"
     ]
    },
    {
     "name": "stderr",
     "output_type": "stream",
     "text": [
      "\n",
      "[notice] A new release of pip is available: 24.3.1 -> 25.2\n",
      "[notice] To update, run: python.exe -m pip install --upgrade pip\n"
     ]
    }
   ],
   "source": [
    "pip install lxml html5lib"
   ]
  },
  {
   "cell_type": "code",
   "execution_count": 2,
   "id": "6c2d65ab-7fcc-4eea-8d6e-e001aa6e73d9",
   "metadata": {
    "scrolled": true
   },
   "outputs": [
    {
     "name": "stdout",
     "output_type": "stream",
     "text": [
      "Login successful!\n",
      "Pages found: 9\n",
      "Forms found: 0\n",
      "\n",
      "Sample Forms:\n",
      "\n",
      "Results saved in dvwa_crawler_output.json\n"
     ]
    }
   ],
   "source": [
    "import os\n",
    "import requests\n",
    "from bs4 import BeautifulSoup\n",
    "from urllib.parse import urljoin\n",
    "import time\n",
    "import json\n",
    "\n",
    "os.environ[\"NO_PROXY\"] = \"127.0.0.1,localhost\"\n",
    "\n",
    "def make_soup(html):\n",
    "    try:\n",
    "        return BeautifulSoup(html, \"lxml\")\n",
    "    except Exception:\n",
    "        return BeautifulSoup(html, \"html.parser\")\n",
    "\n",
    "def normalize(base_url, link):\n",
    "    return urljoin(base_url, link)\n",
    "\n",
    "def extract_links(html, page_url):\n",
    "    soup = make_soup(html)\n",
    "    return [normalize(page_url, a[\"href\"]) for a in soup.find_all(\"a\", href=True)]\n",
    "\n",
    "def extract_forms(html, page_url):\n",
    "    soup = make_soup(html)\n",
    "    forms = []\n",
    "    for f in soup.find_all(\"form\"):\n",
    "        action = normalize(page_url, f.get(\"action\") or page_url)\n",
    "        method = (f.get(\"method\") or \"GET\").upper()\n",
    "        inputs = [{\"name\": inp.get(\"name\"), \"type\": (inp.get(\"type\") or inp.name).lower()}\n",
    "                  for inp in f.find_all([\"input\", \"textarea\", \"select\"])]\n",
    "        forms.append({\"page\": page_url, \"action\": action, \"method\": method, \"inputs\": inputs})\n",
    "    return forms\n",
    "\n",
    "class Crawler:\n",
    "    def __init__(self, base_url, session, max_pages=20, delay=0.2):\n",
    "        self.base_url = base_url.rstrip(\"/\")\n",
    "        self.max_pages = max_pages\n",
    "        self.delay = delay\n",
    "        self.session = session\n",
    "        self.visited = set()\n",
    "        self.pages = {}\n",
    "        self.forms = []\n",
    "\n",
    "    def crawl(self):\n",
    "        to_visit = [self.base_url]\n",
    "        while to_visit and len(self.visited) < self.max_pages:\n",
    "            url = to_visit.pop(0)\n",
    "            if url in self.visited:\n",
    "                continue\n",
    "            try:\n",
    "                response = self.session.get(url, timeout=5)\n",
    "                html = response.text\n",
    "                links = extract_links(html, url)\n",
    "                forms = extract_forms(html, url)\n",
    "                self.visited.add(url)\n",
    "                self.pages[url] = {\"links\": links, \"forms\": forms}\n",
    "                self.forms.extend(forms)\n",
    "                for link in links:\n",
    "                    if link.startswith(self.base_url) and link not in self.visited:\n",
    "                        to_visit.append(link)\n",
    "                time.sleep(self.delay)\n",
    "            except Exception as e:\n",
    "                print(\"Error visiting:\", url, \"->\", e)\n",
    "        return {\"pages\": self.pages, \"forms\": self.forms}\n",
    "\n",
    "target = \"http://127.0.0.1:8081/dvwa\"\n",
    "\n",
    "session = requests.Session()\n",
    "login_url = target + \"/login.php\"\n",
    "login_data = {\"username\": \"admin\", \"password\": \"password\", \"Login\": \"Login\"}\n",
    "response = session.post(login_url, data=login_data)\n",
    "\n",
    "if \"Login failed\" in response.text:\n",
    "    print(\"Login failed! Check credentials.\")\n",
    "else:\n",
    "    print(\"Login successful!\")\n",
    "    crawler = Crawler(target, session, max_pages=20, delay=0.1)\n",
    "    result = crawler.crawl()\n",
    "    with open(\"dvwa_crawler_output.json\", \"w\") as f:\n",
    "        json.dump(result, f, indent=4)\n",
    "    print(\"Pages found:\", len(result[\"pages\"]))\n",
    "    print(\"Forms found:\", len(result[\"forms\"]))\n",
    "    print(\"\\nSample Forms:\")\n",
    "    for f in result[\"forms\"][:5]:\n",
    "        print(f)\n",
    "    print(\"\\nResults saved in dvwa_crawler_output.json\")\n"
   ]
  }
 ],
 "metadata": {
  "kernelspec": {
   "display_name": "Python 3 (ipykernel)",
   "language": "python",
   "name": "python3"
  },
  "language_info": {
   "codemirror_mode": {
    "name": "ipython",
    "version": 3
   },
   "file_extension": ".py",
   "mimetype": "text/x-python",
   "name": "python",
   "nbconvert_exporter": "python",
   "pygments_lexer": "ipython3",
   "version": "3.13.2"
  }
 },
 "nbformat": 4,
 "nbformat_minor": 5
}
