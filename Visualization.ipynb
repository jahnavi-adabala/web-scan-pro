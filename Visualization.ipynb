{
 "cells": [
  {
   "cell_type": "code",
   "execution_count": 5,
   "id": "c0c3847b-a556-4cea-9829-5c705a5f5891",
   "metadata": {},
   "outputs": [
    {
     "name": "stdout",
     "output_type": "stream",
     "text": [
      "Collecting pandas\n",
      "  Downloading pandas-2.3.2-cp313-cp313-win_amd64.whl.metadata (19 kB)\n",
      "Requirement already satisfied: matplotlib in c:\\python313\\lib\\site-packages (3.10.6)\n",
      "Requirement already satisfied: numpy>=1.26.0 in c:\\python313\\lib\\site-packages (from pandas) (2.3.3)\n",
      "Requirement already satisfied: python-dateutil>=2.8.2 in c:\\python313\\lib\\site-packages (from pandas) (2.9.0.post0)\n",
      "Collecting pytz>=2020.1 (from pandas)\n",
      "  Downloading pytz-2025.2-py2.py3-none-any.whl.metadata (22 kB)\n",
      "Collecting tzdata>=2022.7 (from pandas)\n",
      "  Downloading tzdata-2025.2-py2.py3-none-any.whl.metadata (1.4 kB)\n",
      "Requirement already satisfied: contourpy>=1.0.1 in c:\\python313\\lib\\site-packages (from matplotlib) (1.3.3)\n",
      "Requirement already satisfied: cycler>=0.10 in c:\\python313\\lib\\site-packages (from matplotlib) (0.12.1)\n",
      "Requirement already satisfied: fonttools>=4.22.0 in c:\\python313\\lib\\site-packages (from matplotlib) (4.60.0)\n",
      "Requirement already satisfied: kiwisolver>=1.3.1 in c:\\python313\\lib\\site-packages (from matplotlib) (1.4.9)\n",
      "Requirement already satisfied: packaging>=20.0 in c:\\python313\\lib\\site-packages (from matplotlib) (24.2)\n",
      "Requirement already satisfied: pillow>=8 in c:\\python313\\lib\\site-packages (from matplotlib) (11.3.0)\n",
      "Requirement already satisfied: pyparsing>=2.3.1 in c:\\python313\\lib\\site-packages (from matplotlib) (3.2.5)\n",
      "Requirement already satisfied: six>=1.5 in c:\\python313\\lib\\site-packages (from python-dateutil>=2.8.2->pandas) (1.17.0)\n",
      "Downloading pandas-2.3.2-cp313-cp313-win_amd64.whl (11.0 MB)\n",
      "   ---------------------------------------- 0.0/11.0 MB ? eta -:--:--\n",
      "   - -------------------------------------- 0.5/11.0 MB 7.2 MB/s eta 0:00:02\n",
      "   -- ------------------------------------- 0.8/11.0 MB 1.6 MB/s eta 0:00:07\n",
      "   ----- ---------------------------------- 1.6/11.0 MB 2.9 MB/s eta 0:00:04\n",
      "   ------ --------------------------------- 1.8/11.0 MB 2.1 MB/s eta 0:00:05\n",
      "   -------- ------------------------------- 2.4/11.0 MB 2.3 MB/s eta 0:00:04\n",
      "   ----------- ---------------------------- 3.1/11.0 MB 2.5 MB/s eta 0:00:04\n",
      "   ------------- -------------------------- 3.7/11.0 MB 2.5 MB/s eta 0:00:03\n",
      "   ---------------- ----------------------- 4.5/11.0 MB 2.6 MB/s eta 0:00:03\n",
      "   ----------------- ---------------------- 4.7/11.0 MB 2.6 MB/s eta 0:00:03\n",
      "   ------------------- -------------------- 5.2/11.0 MB 2.5 MB/s eta 0:00:03\n",
      "   --------------------- ------------------ 5.8/11.0 MB 2.5 MB/s eta 0:00:03\n",
      "   --------------------- ------------------ 6.0/11.0 MB 2.4 MB/s eta 0:00:03\n",
      "   ------------------------ --------------- 6.8/11.0 MB 2.5 MB/s eta 0:00:02\n",
      "   -------------------------- ------------- 7.3/11.0 MB 2.5 MB/s eta 0:00:02\n",
      "   ---------------------------- ----------- 7.9/11.0 MB 2.5 MB/s eta 0:00:02\n",
      "   ------------------------------ --------- 8.4/11.0 MB 2.5 MB/s eta 0:00:02\n",
      "   -------------------------------- ------- 8.9/11.0 MB 2.5 MB/s eta 0:00:01\n",
      "   ---------------------------------- ----- 9.4/11.0 MB 2.5 MB/s eta 0:00:01\n",
      "   ------------------------------------ --- 10.0/11.0 MB 2.5 MB/s eta 0:00:01\n",
      "   -------------------------------------- - 10.5/11.0 MB 2.5 MB/s eta 0:00:01\n",
      "   ---------------------------------------  10.7/11.0 MB 2.4 MB/s eta 0:00:01\n",
      "   ---------------------------------------- 11.0/11.0 MB 2.4 MB/s eta 0:00:00\n",
      "Downloading pytz-2025.2-py2.py3-none-any.whl (509 kB)\n",
      "Downloading tzdata-2025.2-py2.py3-none-any.whl (347 kB)\n",
      "Installing collected packages: pytz, tzdata, pandas\n",
      "Successfully installed pandas-2.3.2 pytz-2025.2 tzdata-2025.2\n"
     ]
    },
    {
     "name": "stderr",
     "output_type": "stream",
     "text": [
      "\n",
      "[notice] A new release of pip is available: 24.3.1 -> 25.2\n",
      "[notice] To update, run: python.exe -m pip install --upgrade pip\n"
     ]
    }
   ],
   "source": [
    "!pip install pandas matplotlib\n"
   ]
  },
  {
   "cell_type": "code",
   "execution_count": 5,
   "id": "8a107575-6b4c-48a9-94b3-ca6c70e0602b",
   "metadata": {},
   "outputs": [
    {
     "name": "stdout",
     "output_type": "stream",
     "text": [
      "Requirement already satisfied: matplotlib in c:\\python313\\lib\\site-packages (3.10.6)\n",
      "Requirement already satisfied: jinja2 in c:\\python313\\lib\\site-packages (3.1.6)\n",
      "Requirement already satisfied: weasyprint in c:\\python313\\lib\\site-packages (66.0)\n",
      "Requirement already satisfied: contourpy>=1.0.1 in c:\\python313\\lib\\site-packages (from matplotlib) (1.3.3)\n",
      "Requirement already satisfied: cycler>=0.10 in c:\\python313\\lib\\site-packages (from matplotlib) (0.12.1)\n",
      "Requirement already satisfied: fonttools>=4.22.0 in c:\\python313\\lib\\site-packages (from matplotlib) (4.60.0)\n",
      "Requirement already satisfied: kiwisolver>=1.3.1 in c:\\python313\\lib\\site-packages (from matplotlib) (1.4.9)\n",
      "Requirement already satisfied: numpy>=1.23 in c:\\python313\\lib\\site-packages (from matplotlib) (2.3.3)\n",
      "Requirement already satisfied: packaging>=20.0 in c:\\python313\\lib\\site-packages (from matplotlib) (24.2)\n",
      "Requirement already satisfied: pillow>=8 in c:\\python313\\lib\\site-packages (from matplotlib) (11.3.0)\n",
      "Requirement already satisfied: pyparsing>=2.3.1 in c:\\python313\\lib\\site-packages (from matplotlib) (3.2.5)\n",
      "Requirement already satisfied: python-dateutil>=2.7 in c:\\python313\\lib\\site-packages (from matplotlib) (2.9.0.post0)\n",
      "Requirement already satisfied: MarkupSafe>=2.0 in c:\\python313\\lib\\site-packages (from jinja2) (3.0.2)\n",
      "Requirement already satisfied: pydyf>=0.11.0 in c:\\python313\\lib\\site-packages (from weasyprint) (0.11.0)\n",
      "Requirement already satisfied: cffi>=0.6 in c:\\python313\\lib\\site-packages (from weasyprint) (1.17.1)\n",
      "Requirement already satisfied: tinyhtml5>=2.0.0b1 in c:\\python313\\lib\\site-packages (from weasyprint) (2.0.0)\n",
      "Requirement already satisfied: tinycss2>=1.4.0 in c:\\python313\\lib\\site-packages (from weasyprint) (1.4.0)\n",
      "Requirement already satisfied: cssselect2>=0.8.0 in c:\\python313\\lib\\site-packages (from weasyprint) (0.8.0)\n",
      "Requirement already satisfied: Pyphen>=0.9.1 in c:\\python313\\lib\\site-packages (from weasyprint) (0.17.2)\n",
      "Requirement already satisfied: pycparser in c:\\python313\\lib\\site-packages (from cffi>=0.6->weasyprint) (2.22)\n",
      "Requirement already satisfied: webencodings in c:\\python313\\lib\\site-packages (from cssselect2>=0.8.0->weasyprint) (0.5.1)\n",
      "Requirement already satisfied: brotli>=1.0.1 in c:\\python313\\lib\\site-packages (from fonttools[woff]>=4.0.0->weasyprint) (1.1.0)\n",
      "Requirement already satisfied: zopfli>=0.1.4 in c:\\python313\\lib\\site-packages (from fonttools[woff]>=4.0.0->weasyprint) (0.2.3.post1)\n",
      "Requirement already satisfied: six>=1.5 in c:\\python313\\lib\\site-packages (from python-dateutil>=2.7->matplotlib) (1.17.0)\n"
     ]
    },
    {
     "name": "stderr",
     "output_type": "stream",
     "text": [
      "\n",
      "[notice] A new release of pip is available: 24.3.1 -> 25.2\n",
      "[notice] To update, run: python.exe -m pip install --upgrade pip\n"
     ]
    }
   ],
   "source": [
    "!pip install matplotlib jinja2 weasyprint\n",
    "\n"
   ]
  },
  {
   "cell_type": "code",
   "execution_count": 7,
   "id": "ec962e8f-8f45-4d44-9c99-e00877e4edc2",
   "metadata": {},
   "outputs": [
    {
     "name": "stdout",
     "output_type": "stream",
     "text": [
      "[+] Report generated: vulnerability_report.html\n"
     ]
    },
    {
     "data": {
      "image/png": "[encoded data removed]",
      "text/plain": [
       "<Figure size 500x500 with 1 Axes>"
      ]
     },
     "metadata": {},
     "output_type": "display_data"
    }
   ],
   "source": [
    "\n",
    "import pandas as pd\n",
    "import matplotlib.pyplot as plt\n",
    "import base64\n",
    "from io import BytesIO\n",
    "\n",
    "\n",
    "findings = [\n",
    "    {\"Vulnerability\": \"IDOR\", \"Endpoint\": \"/vulnerabilities/idor/?id=1\", \"Severity\": \"High\", \"Mitigation\": \"Implement proper access control checks\"},\n",
    "    {\"Vulnerability\": \"SQL Injection\", \"Endpoint\": \"/vulnerabilities/sqli/?id=2\", \"Severity\": \"High\", \"Mitigation\": \"Use prepared statements\"},\n",
    "    {\"Vulnerability\": \"XSS\", \"Endpoint\": \"/vulnerabilities/xss_r/?name=test\", \"Severity\": \"Medium\", \"Mitigation\": \"Apply input sanitization\"},\n",
    "    {\"Vulnerability\": \"CSRF\", \"Endpoint\": \"/vulnerabilities/csrf/\", \"Severity\": \"Low\", \"Mitigation\": \"Use anti-CSRF tokens\"}\n",
    "]\n",
    "\n",
    "df = pd.DataFrame(findings)\n",
    "\n",
    "\n",
    "severity_counts = df[\"Severity\"].value_counts()\n",
    "plt.figure(figsize=(5,5))\n",
    "plt.pie(severity_counts, labels=severity_counts.index, autopct='%1.1f%%', startangle=140)\n",
    "plt.title(\"Severity Distribution\")\n",
    "\n",
    "\n",
    "buf = BytesIO()\n",
    "plt.savefig(buf, format=\"png\")\n",
    "buf.seek(0)\n",
    "chart_base64 = base64.b64encode(buf.read()).decode(\"utf-8\")\n",
    "buf.close()\n",
    "\n",
    "\n",
    "html_content = f\"\"\"\n",
    "<html>\n",
    "<head>\n",
    "    <title>Vulnerability Report</title>\n",
    "    <style>\n",
    "        body {{ font-family: Arial, sans-serif; margin: 40px; }}\n",
    "        h1 {{ text-align: center; }}\n",
    "        table {{ width: 100%; border-collapse: collapse; margin-top: 20px; }}\n",
    "        th, td {{ border: 1px solid #ddd; padding: 8px; text-align: left; }}\n",
    "        th {{ background-color: #f2f2f2; }}\n",
    "        .chart {{ text-align: center; margin-top: 20px; }}\n",
    "    </style>\n",
    "</head>\n",
    "<body>\n",
    "    <h1>Vulnerability Report</h1>\n",
    "    <table>\n",
    "        <tr>\n",
    "            <th>Vulnerability Type</th>\n",
    "            <th>Affected Endpoint</th>\n",
    "            <th>Severity Level</th>\n",
    "            <th>Suggested Mitigation</th>\n",
    "        </tr>\n",
    "\"\"\"\n",
    "\n",
    "for _, row in df.iterrows():\n",
    "    html_content += f\"\"\"\n",
    "        <tr>\n",
    "            <td>{row['Vulnerability']}</td>\n",
    "            <td>{row['Endpoint']}</td>\n",
    "            <td>{row['Severity']}</td>\n",
    "            <td>{row['Mitigation']}</td>\n",
    "        </tr>\n",
    "    \"\"\"\n",
    "\n",
    "html_content += f\"\"\"\n",
    "    </table>\n",
    "    <div class=\"chart\">\n",
    "        <h2>Severity Distribution</h2>\n",
    "        <img src=\"data:image/png;base64,{chart_base64}\" />\n",
    "    </div>\n",
    "</body>\n",
    "</html>\n",
    "\"\"\"\n",
    "\n",
    "with open(\"vulnerability_report.html\", \"w\") as f:\n",
    "    f.write(html_content)\n",
    "\n",
    "print(\"[+] Report generated: vulnerability_report.html\")\n",
    "\n",
    "\n"
   ]
  },
  {
   "cell_type": "code",
   "execution_count": null,
   "id": "96827432-8d4e-43d9-b082-95b2fee84059",
   "metadata": {},
   "outputs": [],
   "source": []
  }
 ],
 "metadata": {
  "kernelspec": {
   "display_name": "Python 3 (ipykernel)",
   "language": "python",
   "name": "python3"
  },
  "language_info": {
   "codemirror_mode": {
    "name": "ipython",
    "version": 3
   },
   "file_extension": ".py",
   "mimetype": "text/x-python",
   "name": "python",
   "nbconvert_exporter": "python",
   "pygments_lexer": "ipython3",
   "version": "3.13.2"
  }
 },
 "nbformat": 4,
 "nbformat_minor": 5
}
